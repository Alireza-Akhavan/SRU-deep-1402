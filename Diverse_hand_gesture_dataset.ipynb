{
  "nbformat": 4,
  "nbformat_minor": 0,
  "metadata": {
    "colab": {
      "provenance": []
    },
    "kernelspec": {
      "name": "python3",
      "display_name": "Python 3"
    },
    "language_info": {
      "name": "python"
    }
  },
  "cells": [
    {
      "cell_type": "code",
      "execution_count": 1,
      "metadata": {
        "colab": {
          "base_uri": "https://localhost:8080/"
        },
        "id": "fbZlcIerYJ9W",
        "outputId": "f65cbe42-b64f-4bd0-f27d-da84651500be"
      },
      "outputs": [
        {
          "output_type": "stream",
          "name": "stdout",
          "text": [
            "--2023-12-20 17:59:21--  http://dl.deepnn.ir/Diverse_hand_gesture_dataset.zip\n",
            "Resolving dl.deepnn.ir (dl.deepnn.ir)... 188.40.164.149\n",
            "Connecting to dl.deepnn.ir (dl.deepnn.ir)|188.40.164.149|:80... connected.\n",
            "HTTP request sent, awaiting response... 200 OK\n",
            "Length: 1088794071 (1.0G) [application/zip]\n",
            "Saving to: ‘Diverse_hand_gesture_dataset.zip’\n",
            "\n",
            "Diverse_hand_gestur 100%[===================>]   1.01G  27.6MB/s    in 38s     \n",
            "\n",
            "2023-12-20 18:00:00 (27.0 MB/s) - ‘Diverse_hand_gesture_dataset.zip’ saved [1088794071/1088794071]\n",
            "\n"
          ]
        }
      ],
      "source": [
        "!wget http://dl.deepnn.ir/Diverse_hand_gesture_dataset.zip"
      ]
    },
    {
      "cell_type": "code",
      "source": [
        "!unzip -q Diverse_hand_gesture_dataset.zip"
      ],
      "metadata": {
        "id": "3M5Qi8_sYXeC"
      },
      "execution_count": 2,
      "outputs": []
    },
    {
      "cell_type": "code",
      "source": [
        "import os\n",
        "import shutil\n",
        "\n",
        "# Set the path to your directory containing PNG and TXT files\n",
        "input_directory = '/content/train'\n",
        "\n",
        "# Create a directory to store the organized files\n",
        "output_directory = 'organized_train'\n",
        "os.makedirs(output_directory, exist_ok=True)\n",
        "\n",
        "# Define a dictionary to map numeric class numbers to strings\n",
        "class_mapping = {\n",
        "    0: 'zero',\n",
        "    1: 'dislike',\n",
        "    2: 'five',\n",
        "    3: 'exactly',\n",
        "    4: 'two',\n",
        "    5: 'three',\n",
        "    6: 'left',\n",
        "    7: 'like'\n",
        "}\n",
        "\n",
        "# Loop through each TXT file in the input directory\n",
        "for txt_file in os.listdir(input_directory):\n",
        "    if txt_file.endswith('.txt'):\n",
        "        txt_path = os.path.join(input_directory, txt_file)\n",
        "\n",
        "        # Read the class information from the first column of the TXT file\n",
        "        with open(txt_path, 'r') as file:\n",
        "            class_number = int(file.readline().strip().split()[0])\n",
        "\n",
        "        # Map the numeric class number to the corresponding string\n",
        "        class_name = class_mapping.get(class_number, 'unknown')\n",
        "\n",
        "        # Create a directory for the class if it doesn't exist\n",
        "        class_directory = os.path.join(output_directory, class_name)\n",
        "        os.makedirs(class_directory, exist_ok=True)\n",
        "\n",
        "        # Copy the corresponding PNG file to the class directory\n",
        "        png_file = os.path.splitext(txt_file)[0] + '.png'\n",
        "        png_path = os.path.join(input_directory, png_file)\n",
        "        shutil.copy(png_path, class_directory)\n"
      ],
      "metadata": {
        "id": "Oa1aCTvkdJGG"
      },
      "execution_count": 15,
      "outputs": []
    },
    {
      "cell_type": "code",
      "source": [],
      "metadata": {
        "id": "586e8y90ejHb"
      },
      "execution_count": null,
      "outputs": []
    }
  ]
}