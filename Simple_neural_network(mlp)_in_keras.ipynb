{
  "cells": [
    {
      "cell_type": "markdown",
      "metadata": {
        "id": "mUXNXqK7n0Tt"
      },
      "source": [
        "<center><div style=\"direction:rtl;font-family:B Lotus, B Nazanin, Tahoma\">به نام خدا</div></center>\n",
        "\n",
        "<h1><center><div style=\"direction:rtl;font-family:B Lotus, B Nazanin, Tahoma\">مقدمه‌ای بر شبکه‌های عصبی و چارچوب Keras (کراس)</div></center></h1>"
      ]
    },
    {
      "cell_type": "markdown",
      "metadata": {
        "id": "jP3IhlAYn0Tw"
      },
      "source": [
        "## <div style=\"direction:rtl;text-align:right;font-family:B Lotus, B Nazanin, Tahoma\">لود کتابخانه‌های مورد استفاده</div>\n",
        "<div style=\"direction:rtl;text-align:right;font-family:Tahoma\">\n"
      ]
    },
    {
      "cell_type": "code",
      "source": [
        "!wget https://raw.githubusercontent.com/Alireza-Akhavan/deeplearning-tensorflow2-notebooks/master/dataset.py\n",
        "!wget https://github.com/Alireza-Akhavan/deeplearning-tensorflow2-notebooks/raw/master/dataset/Data_hoda_full.mat -P dataset"
      ],
      "metadata": {
        "id": "TbJqL_8poKzA"
      },
      "execution_count": null,
      "outputs": []
    },
    {
      "cell_type": "code",
      "execution_count": null,
      "metadata": {
        "nbpresent": {
          "id": "de829a92-1fb6-44ad-a2c6-fc1001e1f6e1"
        },
        "id": "wRZGKJERn0Ty"
      },
      "outputs": [],
      "source": [
        "from tensorflow import keras\n",
        "from keras.models import Sequential\n",
        "from keras.layers import Dense\n",
        "import numpy as np\n",
        "\n",
        "from dataset import load_hoda"
      ]
    },
    {
      "cell_type": "markdown",
      "metadata": {
        "id": "n6Fce1Mmn0T0"
      },
      "source": [
        "## <div style=\"direction:rtl;text-align:right;font-family:B Lotus, B Nazanin, Tahoma\">لود مجموعه داده (dataset)</div>"
      ]
    },
    {
      "cell_type": "code",
      "execution_count": null,
      "metadata": {
        "id": "75933Yn4n0T2"
      },
      "outputs": [],
      "source": [
        "x_train_original, y_train_original, x_test_original, y_test_original = load_hoda()"
      ]
    },
    {
      "cell_type": "code",
      "source": [
        "y_train_original[:3]"
      ],
      "metadata": {
        "id": "Ea33wtOhojtO"
      },
      "execution_count": null,
      "outputs": []
    },
    {
      "cell_type": "code",
      "execution_count": null,
      "metadata": {
        "id": "TNqdNuDmn0T4"
      },
      "outputs": [],
      "source": [
        "# Preprocess input data for Keras.\n",
        "y_train = keras.utils.to_categorical(y_train_original, num_classes=10)\n",
        "y_test = keras.utils.to_categorical(y_test_original, num_classes=10)"
      ]
    },
    {
      "cell_type": "code",
      "source": [
        "y_train[:3]"
      ],
      "metadata": {
        "id": "uoO2KjILomRf"
      },
      "execution_count": null,
      "outputs": []
    },
    {
      "cell_type": "markdown",
      "metadata": {
        "id": "HTMmpwKvn0T6"
      },
      "source": [
        "<div style=\"direction:rtl;text-align:right;font-family:Tahoma\">\n",
        "نرمال سازی مقادیر به مقدار بین 0 و 1\n",
        "</div>"
      ]
    },
    {
      "cell_type": "code",
      "execution_count": null,
      "metadata": {
        "id": "Qq6rwPV3n0T7"
      },
      "outputs": [],
      "source": [
        "x_train = x_train_original.astype('float32')\n",
        "x_test = x_test_original.astype('float32')\n",
        "x_train /= 255\n",
        "x_test /= 255"
      ]
    },
    {
      "cell_type": "markdown",
      "metadata": {
        "id": "jnNoMbA4n0UA"
      },
      "source": [
        "## <div style=\"direction:rtl;text-align:right;font-family:B Lotus, B Nazanin, Tahoma\">تعریف معماری مدل (model architecture)</div>"
      ]
    },
    {
      "cell_type": "code",
      "execution_count": null,
      "metadata": {
        "id": "yXI8Qt9ln0UD"
      },
      "outputs": [],
      "source": [
        "model = Sequential()\n",
        "model.add(Dense(64, activation='relu', input_dim=25))\n",
        "model.add(Dense(10, activation='softmax'))"
      ]
    },
    {
      "cell_type": "code",
      "execution_count": null,
      "metadata": {
        "id": "PjjzCgUon0UE"
      },
      "outputs": [],
      "source": [
        "model.summary()"
      ]
    },
    {
      "cell_type": "markdown",
      "metadata": {
        "id": "eiBtCFgsn0UG"
      },
      "source": [
        "## <div style=\"direction:rtl;text-align:right;font-family:B Lotus, B Nazanin, Tahoma\">Compile model</div>\n"
      ]
    },
    {
      "cell_type": "code",
      "execution_count": null,
      "metadata": {
        "id": "LgsEJt-on0UH"
      },
      "outputs": [],
      "source": [
        "model.compile(loss='categorical_crossentropy',\n",
        "              optimizer='rmsprop',\n",
        "              metrics=['accuracy'])"
      ]
    },
    {
      "cell_type": "markdown",
      "metadata": {
        "id": "K90TipVyn0UI"
      },
      "source": [
        "## <div style=\"direction:rtl;text-align:right;font-family:B Lotus, B Nazanin, Tahoma\">آموش مدل با داده‌های آموزشی</div>\n"
      ]
    },
    {
      "cell_type": "code",
      "source": [
        "1000*0.8"
      ],
      "metadata": {
        "id": "fII6tnXYp9B4",
        "outputId": "67134075-f97b-48cb-bed5-3d7cfeccebee",
        "colab": {
          "base_uri": "https://localhost:8080/"
        }
      },
      "execution_count": 16,
      "outputs": [
        {
          "output_type": "execute_result",
          "data": {
            "text/plain": [
              "800.0"
            ]
          },
          "metadata": {},
          "execution_count": 16
        }
      ]
    },
    {
      "cell_type": "code",
      "source": [
        "import math\n",
        "math.ceil((800/64))"
      ],
      "metadata": {
        "id": "j_5xOZUSqES1",
        "outputId": "2231f503-88e4-461a-fd3d-9a4c31ef5645",
        "colab": {
          "base_uri": "https://localhost:8080/"
        }
      },
      "execution_count": 20,
      "outputs": [
        {
          "output_type": "execute_result",
          "data": {
            "text/plain": [
              "13"
            ]
          },
          "metadata": {},
          "execution_count": 20
        }
      ]
    },
    {
      "cell_type": "code",
      "execution_count": 21,
      "metadata": {
        "id": "pLBWKD3_n0UK",
        "outputId": "b7a3cf90-d1b1-4435-8eac-b2ae13396a51",
        "colab": {
          "base_uri": "https://localhost:8080/"
        }
      },
      "outputs": [
        {
          "output_type": "stream",
          "name": "stdout",
          "text": [
            "Epoch 1/100\n",
            "13/13 [==============================] - 5s 19ms/step - loss: 2.2247 - accuracy: 0.1950 - val_loss: 2.0634 - val_accuracy: 0.3900\n",
            "Epoch 2/100\n",
            "13/13 [==============================] - 0s 6ms/step - loss: 1.9780 - accuracy: 0.4125 - val_loss: 1.8480 - val_accuracy: 0.5950\n",
            "Epoch 3/100\n",
            "13/13 [==============================] - 0s 5ms/step - loss: 1.7894 - accuracy: 0.5987 - val_loss: 1.6616 - val_accuracy: 0.7250\n",
            "Epoch 4/100\n",
            "13/13 [==============================] - 0s 5ms/step - loss: 1.6171 - accuracy: 0.7113 - val_loss: 1.4928 - val_accuracy: 0.7850\n",
            "Epoch 5/100\n",
            "13/13 [==============================] - 0s 5ms/step - loss: 1.4546 - accuracy: 0.7613 - val_loss: 1.3412 - val_accuracy: 0.8000\n",
            "Epoch 6/100\n",
            "13/13 [==============================] - 0s 6ms/step - loss: 1.3066 - accuracy: 0.7800 - val_loss: 1.2045 - val_accuracy: 0.8050\n",
            "Epoch 7/100\n",
            "13/13 [==============================] - 0s 5ms/step - loss: 1.1730 - accuracy: 0.8138 - val_loss: 1.0794 - val_accuracy: 0.8050\n",
            "Epoch 8/100\n",
            "13/13 [==============================] - 0s 5ms/step - loss: 1.0531 - accuracy: 0.8150 - val_loss: 0.9778 - val_accuracy: 0.8250\n",
            "Epoch 9/100\n",
            "13/13 [==============================] - 0s 6ms/step - loss: 0.9496 - accuracy: 0.8400 - val_loss: 0.8870 - val_accuracy: 0.8100\n",
            "Epoch 10/100\n",
            "13/13 [==============================] - 0s 7ms/step - loss: 0.8590 - accuracy: 0.8487 - val_loss: 0.8096 - val_accuracy: 0.8250\n",
            "Epoch 11/100\n",
            "13/13 [==============================] - 0s 5ms/step - loss: 0.7839 - accuracy: 0.8512 - val_loss: 0.7519 - val_accuracy: 0.8300\n",
            "Epoch 12/100\n",
            "13/13 [==============================] - 0s 6ms/step - loss: 0.7212 - accuracy: 0.8600 - val_loss: 0.6934 - val_accuracy: 0.8450\n",
            "Epoch 13/100\n",
            "13/13 [==============================] - 0s 5ms/step - loss: 0.6666 - accuracy: 0.8625 - val_loss: 0.6524 - val_accuracy: 0.8500\n",
            "Epoch 14/100\n",
            "13/13 [==============================] - 0s 6ms/step - loss: 0.6202 - accuracy: 0.8675 - val_loss: 0.6170 - val_accuracy: 0.8600\n",
            "Epoch 15/100\n",
            "13/13 [==============================] - 0s 6ms/step - loss: 0.5808 - accuracy: 0.8788 - val_loss: 0.5812 - val_accuracy: 0.8400\n",
            "Epoch 16/100\n",
            "13/13 [==============================] - 0s 5ms/step - loss: 0.5469 - accuracy: 0.8775 - val_loss: 0.5525 - val_accuracy: 0.8450\n",
            "Epoch 17/100\n",
            "13/13 [==============================] - 0s 5ms/step - loss: 0.5173 - accuracy: 0.8725 - val_loss: 0.5318 - val_accuracy: 0.8600\n",
            "Epoch 18/100\n",
            "13/13 [==============================] - 0s 5ms/step - loss: 0.4920 - accuracy: 0.8788 - val_loss: 0.5034 - val_accuracy: 0.8500\n",
            "Epoch 19/100\n",
            "13/13 [==============================] - 0s 6ms/step - loss: 0.4695 - accuracy: 0.8775 - val_loss: 0.4888 - val_accuracy: 0.8650\n",
            "Epoch 20/100\n",
            "13/13 [==============================] - 0s 6ms/step - loss: 0.4495 - accuracy: 0.8825 - val_loss: 0.4732 - val_accuracy: 0.8600\n",
            "Epoch 21/100\n",
            "13/13 [==============================] - 0s 6ms/step - loss: 0.4309 - accuracy: 0.8813 - val_loss: 0.4604 - val_accuracy: 0.8550\n",
            "Epoch 22/100\n",
            "13/13 [==============================] - 0s 6ms/step - loss: 0.4144 - accuracy: 0.8875 - val_loss: 0.4421 - val_accuracy: 0.8650\n",
            "Epoch 23/100\n",
            "13/13 [==============================] - 0s 6ms/step - loss: 0.3995 - accuracy: 0.8863 - val_loss: 0.4345 - val_accuracy: 0.8550\n",
            "Epoch 24/100\n",
            "13/13 [==============================] - 0s 6ms/step - loss: 0.3863 - accuracy: 0.8900 - val_loss: 0.4259 - val_accuracy: 0.8700\n",
            "Epoch 25/100\n",
            "13/13 [==============================] - 0s 6ms/step - loss: 0.3749 - accuracy: 0.8863 - val_loss: 0.4209 - val_accuracy: 0.8600\n",
            "Epoch 26/100\n",
            "13/13 [==============================] - 0s 6ms/step - loss: 0.3631 - accuracy: 0.8963 - val_loss: 0.4070 - val_accuracy: 0.8700\n",
            "Epoch 27/100\n",
            "13/13 [==============================] - 0s 6ms/step - loss: 0.3540 - accuracy: 0.8950 - val_loss: 0.4010 - val_accuracy: 0.8750\n",
            "Epoch 28/100\n",
            "13/13 [==============================] - 0s 6ms/step - loss: 0.3427 - accuracy: 0.8950 - val_loss: 0.3943 - val_accuracy: 0.8700\n",
            "Epoch 29/100\n",
            "13/13 [==============================] - 0s 6ms/step - loss: 0.3342 - accuracy: 0.9025 - val_loss: 0.3866 - val_accuracy: 0.8750\n",
            "Epoch 30/100\n",
            "13/13 [==============================] - 0s 6ms/step - loss: 0.3255 - accuracy: 0.8963 - val_loss: 0.3812 - val_accuracy: 0.8850\n",
            "Epoch 31/100\n",
            "13/13 [==============================] - 0s 6ms/step - loss: 0.3190 - accuracy: 0.8988 - val_loss: 0.3798 - val_accuracy: 0.8850\n",
            "Epoch 32/100\n",
            "13/13 [==============================] - 0s 5ms/step - loss: 0.3110 - accuracy: 0.9050 - val_loss: 0.3741 - val_accuracy: 0.8900\n",
            "Epoch 33/100\n",
            "13/13 [==============================] - 0s 5ms/step - loss: 0.3038 - accuracy: 0.9075 - val_loss: 0.3711 - val_accuracy: 0.8850\n",
            "Epoch 34/100\n",
            "13/13 [==============================] - 0s 7ms/step - loss: 0.2983 - accuracy: 0.9112 - val_loss: 0.3625 - val_accuracy: 0.8850\n",
            "Epoch 35/100\n",
            "13/13 [==============================] - 0s 5ms/step - loss: 0.2933 - accuracy: 0.9150 - val_loss: 0.3601 - val_accuracy: 0.8850\n",
            "Epoch 36/100\n",
            "13/13 [==============================] - 0s 5ms/step - loss: 0.2857 - accuracy: 0.9137 - val_loss: 0.3559 - val_accuracy: 0.8900\n",
            "Epoch 37/100\n",
            "13/13 [==============================] - 0s 6ms/step - loss: 0.2812 - accuracy: 0.9175 - val_loss: 0.3554 - val_accuracy: 0.8900\n",
            "Epoch 38/100\n",
            "13/13 [==============================] - 0s 5ms/step - loss: 0.2767 - accuracy: 0.9212 - val_loss: 0.3495 - val_accuracy: 0.8850\n",
            "Epoch 39/100\n",
            "13/13 [==============================] - 0s 6ms/step - loss: 0.2713 - accuracy: 0.9137 - val_loss: 0.3477 - val_accuracy: 0.8950\n",
            "Epoch 40/100\n",
            "13/13 [==============================] - 0s 7ms/step - loss: 0.2666 - accuracy: 0.9200 - val_loss: 0.3519 - val_accuracy: 0.8850\n",
            "Epoch 41/100\n",
            "13/13 [==============================] - 0s 5ms/step - loss: 0.2610 - accuracy: 0.9250 - val_loss: 0.3408 - val_accuracy: 0.8950\n",
            "Epoch 42/100\n",
            "13/13 [==============================] - 0s 5ms/step - loss: 0.2583 - accuracy: 0.9250 - val_loss: 0.3412 - val_accuracy: 0.8900\n",
            "Epoch 43/100\n",
            "13/13 [==============================] - 0s 6ms/step - loss: 0.2532 - accuracy: 0.9212 - val_loss: 0.3399 - val_accuracy: 0.8950\n",
            "Epoch 44/100\n",
            "13/13 [==============================] - 0s 6ms/step - loss: 0.2490 - accuracy: 0.9212 - val_loss: 0.3347 - val_accuracy: 0.8850\n",
            "Epoch 45/100\n",
            "13/13 [==============================] - 0s 5ms/step - loss: 0.2458 - accuracy: 0.9262 - val_loss: 0.3330 - val_accuracy: 0.8950\n",
            "Epoch 46/100\n",
            "13/13 [==============================] - 0s 6ms/step - loss: 0.2420 - accuracy: 0.9225 - val_loss: 0.3361 - val_accuracy: 0.8950\n",
            "Epoch 47/100\n",
            "13/13 [==============================] - 0s 5ms/step - loss: 0.2382 - accuracy: 0.9300 - val_loss: 0.3310 - val_accuracy: 0.8950\n",
            "Epoch 48/100\n",
            "13/13 [==============================] - 0s 6ms/step - loss: 0.2347 - accuracy: 0.9287 - val_loss: 0.3244 - val_accuracy: 0.8950\n",
            "Epoch 49/100\n",
            "13/13 [==============================] - 0s 6ms/step - loss: 0.2313 - accuracy: 0.9312 - val_loss: 0.3268 - val_accuracy: 0.8950\n",
            "Epoch 50/100\n",
            "13/13 [==============================] - 0s 7ms/step - loss: 0.2278 - accuracy: 0.9312 - val_loss: 0.3247 - val_accuracy: 0.8950\n",
            "Epoch 51/100\n",
            "13/13 [==============================] - 0s 6ms/step - loss: 0.2250 - accuracy: 0.9287 - val_loss: 0.3212 - val_accuracy: 0.8900\n",
            "Epoch 52/100\n",
            "13/13 [==============================] - 0s 7ms/step - loss: 0.2226 - accuracy: 0.9275 - val_loss: 0.3186 - val_accuracy: 0.8950\n",
            "Epoch 53/100\n",
            "13/13 [==============================] - 0s 6ms/step - loss: 0.2194 - accuracy: 0.9287 - val_loss: 0.3174 - val_accuracy: 0.8950\n",
            "Epoch 54/100\n",
            "13/13 [==============================] - 0s 6ms/step - loss: 0.2166 - accuracy: 0.9300 - val_loss: 0.3169 - val_accuracy: 0.8950\n",
            "Epoch 55/100\n",
            "13/13 [==============================] - 0s 6ms/step - loss: 0.2128 - accuracy: 0.9287 - val_loss: 0.3152 - val_accuracy: 0.8950\n",
            "Epoch 56/100\n",
            "13/13 [==============================] - 0s 6ms/step - loss: 0.2112 - accuracy: 0.9275 - val_loss: 0.3154 - val_accuracy: 0.9000\n",
            "Epoch 57/100\n",
            "13/13 [==============================] - 0s 7ms/step - loss: 0.2082 - accuracy: 0.9325 - val_loss: 0.3182 - val_accuracy: 0.8950\n",
            "Epoch 58/100\n",
            "13/13 [==============================] - 0s 6ms/step - loss: 0.2048 - accuracy: 0.9362 - val_loss: 0.3151 - val_accuracy: 0.8950\n",
            "Epoch 59/100\n",
            "13/13 [==============================] - 0s 5ms/step - loss: 0.2025 - accuracy: 0.9350 - val_loss: 0.3097 - val_accuracy: 0.9000\n",
            "Epoch 60/100\n",
            "13/13 [==============================] - 0s 6ms/step - loss: 0.2003 - accuracy: 0.9325 - val_loss: 0.3128 - val_accuracy: 0.8950\n",
            "Epoch 61/100\n",
            "13/13 [==============================] - 0s 6ms/step - loss: 0.1975 - accuracy: 0.9388 - val_loss: 0.3130 - val_accuracy: 0.8950\n",
            "Epoch 62/100\n",
            "13/13 [==============================] - 0s 5ms/step - loss: 0.1962 - accuracy: 0.9350 - val_loss: 0.3106 - val_accuracy: 0.8850\n",
            "Epoch 63/100\n",
            "13/13 [==============================] - 0s 6ms/step - loss: 0.1938 - accuracy: 0.9337 - val_loss: 0.3089 - val_accuracy: 0.9000\n",
            "Epoch 64/100\n",
            "13/13 [==============================] - 0s 6ms/step - loss: 0.1907 - accuracy: 0.9413 - val_loss: 0.3069 - val_accuracy: 0.9000\n",
            "Epoch 65/100\n",
            "13/13 [==============================] - 0s 7ms/step - loss: 0.1892 - accuracy: 0.9362 - val_loss: 0.3057 - val_accuracy: 0.9000\n",
            "Epoch 66/100\n",
            "13/13 [==============================] - 0s 5ms/step - loss: 0.1868 - accuracy: 0.9425 - val_loss: 0.3056 - val_accuracy: 0.8950\n",
            "Epoch 67/100\n",
            "13/13 [==============================] - 0s 5ms/step - loss: 0.1845 - accuracy: 0.9388 - val_loss: 0.3107 - val_accuracy: 0.8950\n",
            "Epoch 68/100\n",
            "13/13 [==============================] - 0s 6ms/step - loss: 0.1822 - accuracy: 0.9425 - val_loss: 0.3062 - val_accuracy: 0.8950\n",
            "Epoch 69/100\n",
            "13/13 [==============================] - 0s 6ms/step - loss: 0.1804 - accuracy: 0.9388 - val_loss: 0.3072 - val_accuracy: 0.8950\n",
            "Epoch 70/100\n",
            "13/13 [==============================] - 0s 6ms/step - loss: 0.1779 - accuracy: 0.9450 - val_loss: 0.3064 - val_accuracy: 0.8900\n",
            "Epoch 71/100\n",
            "13/13 [==============================] - 0s 6ms/step - loss: 0.1769 - accuracy: 0.9438 - val_loss: 0.3082 - val_accuracy: 0.8950\n",
            "Epoch 72/100\n",
            "13/13 [==============================] - 0s 6ms/step - loss: 0.1747 - accuracy: 0.9463 - val_loss: 0.3025 - val_accuracy: 0.8950\n",
            "Epoch 73/100\n",
            "13/13 [==============================] - 0s 7ms/step - loss: 0.1720 - accuracy: 0.9438 - val_loss: 0.3065 - val_accuracy: 0.8900\n",
            "Epoch 74/100\n",
            "13/13 [==============================] - 0s 6ms/step - loss: 0.1709 - accuracy: 0.9475 - val_loss: 0.3046 - val_accuracy: 0.9000\n",
            "Epoch 75/100\n",
            "13/13 [==============================] - 0s 6ms/step - loss: 0.1683 - accuracy: 0.9513 - val_loss: 0.3082 - val_accuracy: 0.8900\n",
            "Epoch 76/100\n",
            "13/13 [==============================] - 0s 7ms/step - loss: 0.1670 - accuracy: 0.9475 - val_loss: 0.3046 - val_accuracy: 0.8900\n",
            "Epoch 77/100\n",
            "13/13 [==============================] - 0s 7ms/step - loss: 0.1654 - accuracy: 0.9488 - val_loss: 0.3069 - val_accuracy: 0.8950\n",
            "Epoch 78/100\n",
            "13/13 [==============================] - 0s 7ms/step - loss: 0.1630 - accuracy: 0.9475 - val_loss: 0.3057 - val_accuracy: 0.8950\n",
            "Epoch 79/100\n",
            "13/13 [==============================] - 0s 6ms/step - loss: 0.1617 - accuracy: 0.9538 - val_loss: 0.3046 - val_accuracy: 0.8950\n",
            "Epoch 80/100\n",
            "13/13 [==============================] - 0s 6ms/step - loss: 0.1597 - accuracy: 0.9513 - val_loss: 0.3001 - val_accuracy: 0.8950\n",
            "Epoch 81/100\n",
            "13/13 [==============================] - 0s 6ms/step - loss: 0.1587 - accuracy: 0.9513 - val_loss: 0.3059 - val_accuracy: 0.8950\n",
            "Epoch 82/100\n",
            "13/13 [==============================] - 0s 6ms/step - loss: 0.1565 - accuracy: 0.9525 - val_loss: 0.3090 - val_accuracy: 0.8900\n",
            "Epoch 83/100\n",
            "13/13 [==============================] - 0s 5ms/step - loss: 0.1554 - accuracy: 0.9588 - val_loss: 0.2994 - val_accuracy: 0.8950\n",
            "Epoch 84/100\n",
            "13/13 [==============================] - 0s 5ms/step - loss: 0.1533 - accuracy: 0.9538 - val_loss: 0.3023 - val_accuracy: 0.8950\n",
            "Epoch 85/100\n",
            "13/13 [==============================] - 0s 6ms/step - loss: 0.1520 - accuracy: 0.9525 - val_loss: 0.3053 - val_accuracy: 0.8950\n",
            "Epoch 86/100\n",
            "13/13 [==============================] - 0s 6ms/step - loss: 0.1498 - accuracy: 0.9550 - val_loss: 0.3051 - val_accuracy: 0.8950\n",
            "Epoch 87/100\n",
            "13/13 [==============================] - 0s 5ms/step - loss: 0.1501 - accuracy: 0.9588 - val_loss: 0.3005 - val_accuracy: 0.8950\n",
            "Epoch 88/100\n",
            "13/13 [==============================] - 0s 7ms/step - loss: 0.1466 - accuracy: 0.9550 - val_loss: 0.3022 - val_accuracy: 0.8950\n",
            "Epoch 89/100\n",
            "13/13 [==============================] - 0s 6ms/step - loss: 0.1457 - accuracy: 0.9563 - val_loss: 0.3056 - val_accuracy: 0.8950\n",
            "Epoch 90/100\n",
            "13/13 [==============================] - 0s 7ms/step - loss: 0.1431 - accuracy: 0.9625 - val_loss: 0.3031 - val_accuracy: 0.8950\n",
            "Epoch 91/100\n",
            "13/13 [==============================] - 0s 6ms/step - loss: 0.1434 - accuracy: 0.9600 - val_loss: 0.3036 - val_accuracy: 0.8950\n",
            "Epoch 92/100\n",
            "13/13 [==============================] - 0s 6ms/step - loss: 0.1408 - accuracy: 0.9588 - val_loss: 0.3040 - val_accuracy: 0.8950\n",
            "Epoch 93/100\n",
            "13/13 [==============================] - 0s 7ms/step - loss: 0.1402 - accuracy: 0.9625 - val_loss: 0.3026 - val_accuracy: 0.8950\n",
            "Epoch 94/100\n",
            "13/13 [==============================] - 0s 5ms/step - loss: 0.1381 - accuracy: 0.9650 - val_loss: 0.3052 - val_accuracy: 0.8900\n",
            "Epoch 95/100\n",
            "13/13 [==============================] - 0s 6ms/step - loss: 0.1371 - accuracy: 0.9625 - val_loss: 0.3036 - val_accuracy: 0.8950\n",
            "Epoch 96/100\n",
            "13/13 [==============================] - 0s 5ms/step - loss: 0.1356 - accuracy: 0.9638 - val_loss: 0.3076 - val_accuracy: 0.8900\n",
            "Epoch 97/100\n",
            "13/13 [==============================] - 0s 5ms/step - loss: 0.1337 - accuracy: 0.9650 - val_loss: 0.3012 - val_accuracy: 0.8900\n",
            "Epoch 98/100\n",
            "13/13 [==============================] - 0s 5ms/step - loss: 0.1326 - accuracy: 0.9650 - val_loss: 0.3092 - val_accuracy: 0.9000\n",
            "Epoch 99/100\n",
            "13/13 [==============================] - 0s 8ms/step - loss: 0.1318 - accuracy: 0.9700 - val_loss: 0.3041 - val_accuracy: 0.8950\n",
            "Epoch 100/100\n",
            "13/13 [==============================] - 0s 9ms/step - loss: 0.1302 - accuracy: 0.9675 - val_loss: 0.3078 - val_accuracy: 0.8950\n"
          ]
        }
      ],
      "source": [
        "history = model.fit(x_train, y_train,\n",
        "          epochs=100,\n",
        "          batch_size=64, validation_split=0.2)"
      ]
    },
    {
      "cell_type": "code",
      "source": [
        "history.history.keys()"
      ],
      "metadata": {
        "id": "PaLmJPBVqcnK",
        "outputId": "83b1ad43-614d-45df-da8d-2bc4b35d77c8",
        "colab": {
          "base_uri": "https://localhost:8080/"
        }
      },
      "execution_count": 24,
      "outputs": [
        {
          "output_type": "execute_result",
          "data": {
            "text/plain": [
              "dict_keys(['loss', 'accuracy', 'val_loss', 'val_accuracy'])"
            ]
          },
          "metadata": {},
          "execution_count": 24
        }
      ]
    },
    {
      "cell_type": "code",
      "execution_count": 25,
      "metadata": {
        "id": "pSpOuK7Kn0UK"
      },
      "outputs": [],
      "source": [
        "import matplotlib.pyplot as plt\n",
        "%matplotlib inline"
      ]
    },
    {
      "cell_type": "code",
      "source": [
        "plt.plot(history.history['val_loss'])\n",
        "plt.plot(history.history['loss'])\n",
        "plt.legend(['val', 'train'])"
      ],
      "metadata": {
        "id": "S-aXXd_xq_tT",
        "outputId": "17755e66-7632-4557-f3cc-e802ea1e1fa1",
        "colab": {
          "base_uri": "https://localhost:8080/",
          "height": 448
        }
      },
      "execution_count": 29,
      "outputs": [
        {
          "output_type": "execute_result",
          "data": {
            "text/plain": [
              "<matplotlib.legend.Legend at 0x797bd0454970>"
            ]
          },
          "metadata": {},
          "execution_count": 29
        },
        {
          "output_type": "display_data",
          "data": {
            "text/plain": [
              "<Figure size 640x480 with 1 Axes>"
            ],
            "image/png": "[encoded data removed]"
          },
          "metadata": {}
        }
      ]
    },
    {
      "cell_type": "code",
      "execution_count": 28,
      "metadata": {
        "id": "t3QELHvWn0UL",
        "outputId": "ca314cb7-8461-44d1-d0af-d6102b12331d",
        "colab": {
          "base_uri": "https://localhost:8080/",
          "height": 450
        }
      },
      "outputs": [
        {
          "output_type": "execute_result",
          "data": {
            "text/plain": [
              "<matplotlib.legend.Legend at 0x797bde9580d0>"
            ]
          },
          "metadata": {},
          "execution_count": 28
        },
        {
          "output_type": "display_data",
          "data": {
            "text/plain": [
              "<Figure size 640x480 with 1 Axes>"
            ],
            "image/png": "[encoded data removed]"
          },
          "metadata": {}
        }
      ],
      "source": [
        "plt.plot(history.history['val_accuracy'])\n",
        "plt.plot(history.history['accuracy'])\n",
        "plt.legend(['val', 'train'])"
      ]
    },
    {
      "cell_type": "markdown",
      "metadata": {
        "id": "-b_6qvBFn0UL"
      },
      "source": [
        "## <div style=\"direction:rtl;text-align:right;font-family:B Lotus, B Nazanin, Tahoma\">ارزیابی مدل روی داده های آزمون</div>"
      ]
    },
    {
      "cell_type": "code",
      "execution_count": 30,
      "metadata": {
        "id": "zNl9cUA2n0UL",
        "outputId": "727bcec2-33aa-4e04-88b8-800799a448ed",
        "colab": {
          "base_uri": "https://localhost:8080/"
        }
      },
      "outputs": [
        {
          "output_type": "stream",
          "name": "stdout",
          "text": [
            "7/7 [==============================] - 0s 3ms/step - loss: 0.2483 - accuracy: 0.9250\n",
            "\n",
            "Testing loss: 0.25, acc: 0.93%\n"
          ]
        }
      ],
      "source": [
        "loss, acc = model.evaluate(x_test, y_test)\n",
        "print('\\nTesting loss: %.2f, acc: %.2f%%'%(loss, acc))"
      ]
    },
    {
      "cell_type": "markdown",
      "metadata": {
        "id": "ruUxAbvWn0UM"
      },
      "source": [
        "## <div style=\"direction:rtl;text-align:right;font-family:B Lotus, B Nazanin, Tahoma\">پیش‌بینی داده‌های آموزشی</div>\n"
      ]
    },
    {
      "cell_type": "code",
      "source": [
        "# The predict_classes function outputs the highest probability class\n",
        "# according to the trained classifier for each input example.\n",
        "predicted = model.predict(x_test)"
      ],
      "metadata": {
        "id": "JVzqr5A-rNYp",
        "outputId": "2673ebb9-57c6-4410-ffe7-c04b429ba292",
        "colab": {
          "base_uri": "https://localhost:8080/"
        }
      },
      "execution_count": 34,
      "outputs": [
        {
          "output_type": "stream",
          "name": "stdout",
          "text": [
            "7/7 [==============================] - 0s 3ms/step\n"
          ]
        }
      ]
    },
    {
      "cell_type": "code",
      "source": [
        "predicted_classes = np.argmax(predicted, axis=1)"
      ],
      "metadata": {
        "id": "G2lTnueerrU0"
      },
      "execution_count": 39,
      "outputs": []
    },
    {
      "cell_type": "code",
      "execution_count": 40,
      "metadata": {
        "id": "ZlYHuZvkn0UO",
        "outputId": "4c9335bf-2212-4a95-8946-1a97f4f40afd",
        "colab": {
          "base_uri": "https://localhost:8080/"
        }
      },
      "outputs": [
        {
          "output_type": "stream",
          "name": "stdout",
          "text": [
            "predicted:\n",
            "[7 2 3 1 5 5 4 7 3 2 0 8 8 0 2 9 3 6 7 4 0 3 6 3 9 2 7 5 2 9 2 5 5 8 9 6 5\n",
            " 1 4 8 8 4 7 2 1 2 7 9 0 3 7 5 7 5 2 9 8 2 9 8 8 6 6 6 6 6 2 4 2 4 4 5 9 1\n",
            " 8 4 0 5 6 2 4 3 2 7 7 7 7 1 8 1 7 8 7 7 8 9 7 2 3 1 0 2 9 6 3 5 5 0 0 9 6\n",
            " 7 9 3 9 9 8 7 9 2 5 2 5 5 9 6 9 2 5 3 7 9 5 2 9 0 4 1 8 2 2 3 5 2 9 3 8 2\n",
            " 7 0 9 9 0 7 6 5 4 4 9 3 7 0 7 4 9 4 7 3 4 1 5 6 7 9 1 3 5 4 5 3 4 1 3 3 1\n",
            " 1 3 3 8 9 6 7 7 2 3 0 1 4 9 5]\n",
            "True Label:\n",
            "[7 2 3 1 5 5 4 7 3 2 0 8 8 0 2 9 3 6 7 4 0 3 6 3 9 2 7 5 2 9 7 5 5 8 9 6 5\n",
            " 1 4 8 8 4 7 7 1 2 7 9 0 3 7 4 7 5 2 9 8 2 9 8 8 6 6 6 6 6 2 4 3 4 4 5 9 1\n",
            " 8 2 0 5 6 2 4 3 2 7 7 7 7 1 8 1 7 8 7 7 8 9 3 2 3 1 0 2 9 6 3 5 5 0 0 3 6\n",
            " 7 9 3 9 9 8 7 9 2 5 2 5 5 9 6 9 2 0 3 7 6 5 2 9 0 4 1 8 2 2 3 0 2 9 3 8 6\n",
            " 7 0 9 9 0 7 6 5 4 7 9 3 7 0 7 1 9 4 7 3 4 1 5 6 7 9 1 3 5 4 5 7 4 1 3 3 1\n",
            " 2 3 3 8 9 6 7 7 2 3 0 1 4 9 5]\n"
          ]
        }
      ],
      "source": [
        "\n",
        "print(\"predicted:\")\n",
        "print(predicted_classes)\n",
        "print(\"True Label:\")\n",
        "print(y_test_original)"
      ]
    },
    {
      "cell_type": "code",
      "execution_count": 41,
      "metadata": {
        "id": "8mieKbW2n0UP",
        "outputId": "d370b4f0-e114-46b8-907c-fa3acdd33237",
        "colab": {
          "base_uri": "https://localhost:8080/",
          "height": 457
        }
      },
      "outputs": [
        {
          "output_type": "display_data",
          "data": {
            "text/plain": [
              "<Figure size 480x480 with 1 Axes>"
            ],
            "image/png": "[encoded data removed]"
          },
          "metadata": {}
        }
      ],
      "source": [
        "from sklearn.metrics import confusion_matrix\n",
        "plt.matshow(confusion_matrix(y_test_original, predicted_classes), cmap=\"Blues\")\n",
        "plt.xticks(range(10))\n",
        "plt.yticks(range(10))\n",
        "plt.xlabel(\"Predicted label\")\n",
        "plt.ylabel(\"True label\");"
      ]
    }
  ],
  "metadata": {
    "anaconda-cloud": {},
    "kernelspec": {
      "display_name": "tf2.5",
      "language": "python",
      "name": "tensorflow_25"
    },
    "language_info": {
      "codemirror_mode": {
        "name": "ipython",
        "version": 3
      },
      "file_extension": ".py",
      "mimetype": "text/x-python",
      "name": "python",
      "nbconvert_exporter": "python",
      "pygments_lexer": "ipython3",
      "version": "3.8.10"
    },
    "nbpresent": {
      "slides": {
        "300ee14f-a043-486e-b274-7ff253907cd7": {
          "id": "300ee14f-a043-486e-b274-7ff253907cd7",
          "prev": "cb74e0bc-4513-4d13-b7f1-14c3078a7927",
          "regions": {
            "26dc3f39-a230-447c-af4c-f5e5b2fb7835": {
              "attrs": {
                "height": 0.8,
                "width": 0.8,
                "x": 0.1,
                "y": 0.1
              },
              "content": {
                "cell": "c58440a5-3f8f-4f37-9c79-6bf766209406",
                "part": "whole"
              },
              "id": "26dc3f39-a230-447c-af4c-f5e5b2fb7835"
            }
          }
        },
        "878aa53a-1444-4100-8f50-7a408191c579": {
          "id": "878aa53a-1444-4100-8f50-7a408191c579",
          "prev": null,
          "regions": {
            "a6c6843a-5ea6-4fbc-b890-3b4b8ae475b3": {
              "attrs": {
                "height": 0.8,
                "width": 0.8,
                "x": 0.1,
                "y": 0.1
              },
              "content": {
                "cell": "588ee1fa-64b5-453b-ade7-8e6b2515821c",
                "part": "whole"
              },
              "id": "a6c6843a-5ea6-4fbc-b890-3b4b8ae475b3"
            }
          }
        },
        "96ffe88e-7b50-43de-afdd-942e564f4e3e": {
          "id": "96ffe88e-7b50-43de-afdd-942e564f4e3e",
          "prev": "878aa53a-1444-4100-8f50-7a408191c579",
          "regions": {
            "b7e52e12-489a-468d-b10c-af2024fd2856": {
              "attrs": {
                "height": 0.8,
                "width": 0.8,
                "x": 0.1,
                "y": 0.1
              },
              "content": {
                "cell": "de829a92-1fb6-44ad-a2c6-fc1001e1f6e1",
                "part": "whole"
              },
              "id": "b7e52e12-489a-468d-b10c-af2024fd2856"
            }
          }
        },
        "cb74e0bc-4513-4d13-b7f1-14c3078a7927": {
          "id": "cb74e0bc-4513-4d13-b7f1-14c3078a7927",
          "prev": "96ffe88e-7b50-43de-afdd-942e564f4e3e",
          "regions": {
            "444878ee-68f3-4abb-acff-a7079b21e86d": {
              "attrs": {
                "height": 0.8,
                "width": 0.8,
                "x": 0.1,
                "y": 0.1
              },
              "content": {
                "cell": "25f3f538-1ee8-4d98-a6bb-14cbeb7a702d",
                "part": "whole"
              },
              "id": "444878ee-68f3-4abb-acff-a7079b21e86d"
            }
          }
        }
      },
      "themes": {}
    },
    "colab": {
      "provenance": [],
      "gpuType": "T4"
    },
    "accelerator": "GPU"
  },
  "nbformat": 4,
  "nbformat_minor": 0
}